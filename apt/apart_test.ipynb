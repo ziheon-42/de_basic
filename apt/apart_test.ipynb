{
 "cells": [
  {
   "cell_type": "code",
   "execution_count": 14,
   "id": "1e0f40ff-7d3b-4873-831f-d1e029811aa8",
   "metadata": {},
   "outputs": [],
   "source": [
    "# 지역명 - 지역코드 매핑 함수\n",
    "def get_lawd_cd(region_name):\n",
    "    region_map = {\n",
    "        \"서울 강남구\": \"11680\",\n",
    "        \"서울 서초구\": \"11650\",\n",
    "        \"서울 송파구\": \"11710\",\n",
    "        \"서울 강동구\": \"11740\",\n",
    "        \"서울 마포구\": \"11440\",\n",
    "        \"서울 관악구\": \"11620\"\n",
    "    }\n",
    "    code = region_map.get(region_name)\n",
    "    if code:\n",
    "        print(f\"[지역 코드] {region_name} -> {code}\")\n",
    "        return code\n",
    "    else:\n",
    "        print(f\"[오류] '{region_name}'에 대한 코드가 없습니다\")\n",
    "        return None"
   ]
  },
  {
   "cell_type": "code",
   "execution_count": 15,
   "id": "e1b9df5f-5a94-4bfb-affb-886e055fd0bf",
   "metadata": {},
   "outputs": [],
   "source": [
    "# 실거래가 수집 함수\n",
    "import requests\n",
    "import xml.etree.ElementTree as ET\n",
    "\n",
    "def get_apt_trade_info(lawd_cd, deal_ym, service_key):\n",
    "    print(f\"[조회] 지역코드={lawd_cd}, 조회월={deal_ym}\")\n",
    "    url = \"https://apis.data.go.kr/1613000/RTMSDataSvc/getRTMSDataSvcAptTrade\"\n",
    "    params = {\n",
    "        \"serviceKey\": service_key,\n",
    "        \"LAWD_CD\": lawd_cd,\n",
    "        \"DEAL_YMD\": deal_ym\n",
    "    }\n",
    "    try:\n",
    "        res = requests.get(url, params=params, timeout=5)\n",
    "        res.raise_for_status()\n",
    "        root = ET.fromstring(res.content)\n",
    "        items = root.findall(\".//item\")\n",
    "        print(f\"[성공] 거래 건수: {len(items)}\")\n",
    "        return items\n",
    "    except Exception as e:\n",
    "        print(f\"[오류] 거래 정보 조회 실패: {e}\")\n",
    "        return []\n"
   ]
  },
  {
   "cell_type": "code",
   "execution_count": 16,
   "id": "5e55c268-94a9-4896-a392-1f716c147a9c",
   "metadata": {},
   "outputs": [],
   "source": [
    "# DataFrame 구성 및 저장\n",
    "import pandas as pd\n",
    "\n",
    "def parse_items_to_dataframe(items, region_name, deal_ym):\n",
    "    data = []\n",
    "    for item in items:\n",
    "        data.append({\n",
    "            \"지역명\": region_name,\n",
    "            \"거래일자\": f\"{item.findtext('년')}-{item.findtext('월')}-{item.findtext('일')}\",\n",
    "            \"아파트\": item.findtext(\"아파트\"),\n",
    "            \"거래금액(만원)\": item.findtext(\"거래금액\").strip().replace(\",\", \"\"),\n",
    "            \"건축년도\": item.findtext(\"건축년도\"),\n",
    "            \"전용면적\": item.findtext(\"전용면적\"),\n",
    "            \"층\": item.findtext(\"층\"),\n",
    "            \"지번\": item.findtext(\"지번\"),\n",
    "            \"법정동\": item.findtext(\"법정동\")\n",
    "        })\n",
    "    df = pd.DataFrame(data)\n",
    "    filename = f\"{region_name.replace(' ', '_')}_아파트실거래_{deal_ym}.csv\"\n",
    "    df.to_csv(filename, index=False, encoding=\"utf-8-sig\")\n",
    "    print(f\"[CSV 저장 완료] → {filename}\")\n",
    "    return df\n"
   ]
  },
  {
   "cell_type": "code",
   "execution_count": 23,
   "id": "d0d51860-60ae-4470-a4b1-f1fb8c1cb3bb",
   "metadata": {},
   "outputs": [
    {
     "name": "stdout",
     "output_type": "stream",
     "text": [
      "[지역 코드] 서울 강남구 -> 11680\n",
      "[조회] 지역코드=11680, 조회월=202405\n",
      "[오류] 거래 정보 조회 실패: HTTPSConnectionPool(host='apis.data.go.kr', port=443): Max retries exceeded with url: /1613000/RTMSDataSvc/getRTMSDataSvcAptTrade?serviceKey=69736670776c6a68343455724b7853&LAWD_CD=11680&DEAL_YMD=202405 (Caused by SSLError(SSLError(1, '[SSL: SSLV3_ALERT_ILLEGAL_PARAMETER] sslv3 alert illegal parameter (_ssl.c:1016)')))\n"
     ]
    }
   ],
   "source": [
    "# 실행 예시\n",
    "SERVICE_KEY = '69736670776c6a68343455724b7853'\n",
    "region_name = \"서울 강남구\"\n",
    "deal_ym = \"202405\"\n",
    "\n",
    "lawd_cd = get_lawd_cd(region_name)\n",
    "if lawd_cd:\n",
    "    items = get_apt_trade_info(lawd_cd, deal_ym, SERVICE_KEY)\n",
    "    if items:\n",
    "        df = parse_items_to_dataframe(items, region_name, deal_ym)\n",
    "        print(df.head())\n"
   ]
  },
  {
   "cell_type": "code",
   "execution_count": 27,
   "id": "8bb4c412-c726-4875-a70e-d9d51fa6befe",
   "metadata": {},
   "outputs": [
    {
     "name": "stdout",
     "output_type": "stream",
     "text": [
      "[오류 발생] HTTPSConnectionPool(host='apis.data.go.kr', port=443): Max retries exceeded with url: /1611000/RTMSDataSvc/getRTMSDataSvcAptTrade?LAWD_CD=11680&DEAL_YMD=202405 (Caused by SSLError(SSLError(1, '[SSL: SSLV3_ALERT_ILLEGAL_PARAMETER] sslv3 alert illegal parameter (_ssl.c:1016)')))\n"
     ]
    }
   ],
   "source": [
    "import requests\n",
    "import xml.etree.ElementTree as ET\n",
    "import pandas as pd\n",
    "\n",
    "# ✅ 인코딩된 키를 URL에 직접 포함 (params로 보내지 않음)\n",
    "SERVICE_KEY = \"aXIig7X%2FAH2qZfj%2FWPpol5Lmwbj2z3QywRQqJwchXiEqWSVmydOS5TzxxLAiTyb4ySXJrbTMB2QLF3hS0Kep6g%3D%3D\"\n",
    "LAWD_CD = '11680'\n",
    "DEAL_YMD = '202405'\n",
    "\n",
    "# 🔧 올바른 REST API URL\n",
    "url = \"https://apis.data.go.kr/1611000/RTMSDataSvc/getRTMSDataSvcAptTrade\"\n",
    "\n",
    "params = {\n",
    "    \"LAWD_CD\": LAWD_CD,\n",
    "    \"DEAL_YMD\": DEAL_YMD\n",
    "}\n",
    "\n",
    "try:\n",
    "    # ✅ 인증키는 이미 URL에 포함돼 있으므로, params에 다시 넣지 마세요!\n",
    "    response = requests.get(url, params=params, timeout=10)\n",
    "    response.raise_for_status()\n",
    "    print(f\"응답 성공: {response.status_code}\")\n",
    "    \n",
    "    # ✅ XML 파싱\n",
    "    root = ET.fromstring(response.content)\n",
    "    items = root.findall(\".//item\")\n",
    "    print(f\"조회된 거래 건수: {len(items)}\")\n",
    "\n",
    "    # ✅ 예시 출력\n",
    "    for item in items[:5]:\n",
    "        print(item.findtext(\"아파트\"), item.findtext(\"거래금액\").strip())\n",
    "\n",
    "except Exception as e:\n",
    "    print(\"[오류 발생]\", e)\n"
   ]
  },
  {
   "cell_type": "code",
   "execution_count": 33,
   "id": "ba5aba34-6420-49ba-bb39-841f96fe0fb6",
   "metadata": {},
   "outputs": [
    {
     "name": "stdout",
     "output_type": "stream",
     "text": [
      "❌ 오류 발생: HTTPSConnectionPool(host='apis.data.go.kr', port=443): Max retries exceeded with url: /1613000/RTMSDataSvcAptTradeDev/getRTMSDataSvcAptTrade?serviceKey=aXIig7X%252FAH2qZfj%252FWPpol5Lmwbj2z3QywRQqJwchXiEqWSVmydOS5TzxxLAiTyb4ySXJrbTMB2QLF3hS0Kep6g%253D%253D&LAWD_CD=11680&DEAL_YMD=202405 (Caused by SSLError(SSLError(1, '[SSL: SSLV3_ALERT_ILLEGAL_PARAMETER] sslv3 alert illegal parameter (_ssl.c:1016)')))\n"
     ]
    }
   ],
   "source": [
    "import requests\n",
    "import xml.etree.ElementTree as ET\n",
    "import pandas as pd\n",
    "\n",
    "# 국토부 인코딩된 인증키(Encoding Key)\n",
    "SERVICE_KEY = 'aXIig7X%2FAH2qZfj%2FWPpol5Lmwbj2z3QywRQqJwchXiEqWSVmydOS5TzxxLAiTyb4ySXJrbTMB2QLF3hS0Kep6g%3D%3D'\n",
    "\n",
    "# 조회할 지역 코드와 년월\n",
    "LAWD_CD = '11680'\n",
    "DEAL_YMD = '202405'\n",
    "\n",
    "# url 구성 확인\n",
    "url = f\"https://apis.data.go.kr/1613000/RTMSDataSvcAptTradeDev/getRTMSDataSvcAptTrade\"\n",
    "params = {\n",
    "    \"serviceKey\": SERVICE_KEY,\n",
    "    \"LAWD_CD\": LAWD_CD,\n",
    "    \"DEAL_YMD\": DEAL_YMD\n",
    "}\n",
    "\n",
    "try:\n",
    "    response = requests.get(url, params=params, timeout=10)\n",
    "    response.raise_for_status()  # 예외 발생\n",
    "    print(f'응답 성공: {response.status_code}')\n",
    "    print(\"📄 응답 미리보기:\", response.text[:300])  # 일부만 출력해서 구조 확인\n",
    "\n",
    "    # XML 파싱\n",
    "    root = ET.fromstring(response.content)\n",
    "    items = root.findall(\".//item\")\n",
    "    print(f\"🔍 조회된 거래 건수: {len(items)}\")\n",
    "\n",
    "    # 결과 출력\n",
    "    for item in items[:5]:\n",
    "        print(\"📌 아파트:\", item.findtext(\"아파트\"), \"| 거래금액:\", item.findtext(\"거래금액\").strip())\n",
    "\n",
    "except Exception as e:\n",
    "    print(\"❌ 오류 발생:\", e)"
   ]
  },
  {
   "cell_type": "code",
   "execution_count": null,
   "id": "20b827b1-0293-485a-8ea5-2c1aebe2b749",
   "metadata": {},
   "outputs": [],
   "source": [
    "def parse_items_to_dataframe(items, region_name, deal_ym):\n",
    "    data = []\n",
    "    for item in items:\n",
    "        data.append({\n",
    "            \"지역명\": region_name,\n",
    "            \"거래일자\": f\"{item.findtext('년')}-{item.findtext('월')}-{item.findtext('일')}\",\n",
    "            \"아파트\": item.findtext(\"아파트\"),\n",
    "            \"거래금액(만원)\": item.findtext(\"거래금액\").strip().replace(\",\", \"\"),\n",
    "            \"건축년도\": item.findtext(\"건축년도\"),\n",
    "            \"전용면적\": item.findtext(\"전용면적\"),\n",
    "            \"층\": item.findtext(\"층\"),\n",
    "            \"지번\": item.findtext(\"지번\"),\n",
    "            \"법정동\": item.findtext(\"법정동\")\n",
    "        })\n",
    "    df = pd.DataFrame(data)\n",
    "    filename = f\"{region_name.replace(' ', '_')}_아파트실거래_{deal_ym}.csv\"\n",
    "    df.to_csv(filename, index=False, encoding=\"utf-8-sig\")\n",
    "    print(f\"[CSV 저장 완료] → {filename}\")\n",
    "    return df\n"
   ]
  }
 ],
 "metadata": {
  "kernelspec": {
   "display_name": "Python 3 (ipykernel)",
   "language": "python",
   "name": "python3"
  },
  "language_info": {
   "codemirror_mode": {
    "name": "ipython",
    "version": 3
   },
   "file_extension": ".py",
   "mimetype": "text/x-python",
   "name": "python",
   "nbconvert_exporter": "python",
   "pygments_lexer": "ipython3",
   "version": "3.11.12"
  }
 },
 "nbformat": 4,
 "nbformat_minor": 5
}
