{
 "cells": [
  {
   "cell_type": "code",
   "execution_count": 1,
   "id": "7aef99d6",
   "metadata": {},
   "outputs": [],
   "source": [
    "from selenium import webdriver\n",
    "from selenium.webdriver.chrome.service import Service\n",
    "from selenium.webdriver.common.by import By\n",
    "from webdriver_manager.chrome import ChromeDriverManager\n",
    "import time\n",
    "\n",
    "# 1. Chrome 드라이버 설정\n",
    "options = webdriver.ChromeOptions()\n",
    "options.add_argument(\"--start-maximized\")  # 창 띄우기\n",
    "driver = webdriver.Chrome(service=Service(ChromeDriverManager().install()), options=options)\n",
    "\n",
    "# 2. 사이트 접속\n",
    "driver.get(\"https://quotes.toscrape.com\")\n",
    "time.sleep(2)  # 로딩 대기\n",
    "\n",
    "# 3. \"Login\" 버튼 클릭\n",
    "login_link = driver.find_element(By.LINK_TEXT, \"Login\")\n",
    "login_link.click()\n",
    "\n",
    "# 4. 결과 확인용 대기\n",
    "time.sleep(3)\n",
    "\n",
    "# driver.quit()"
   ]
  },
  {
   "cell_type": "markdown",
   "id": "8656edd9-012c-440d-8bef-79ce96fdedc1",
   "metadata": {},
   "source": [
    "# 웹사이트에서 직접 크롤링"
   ]
  },
  {
   "cell_type": "code",
   "execution_count": 1,
   "id": "67fd2da4-e669-4663-9417-07b3f5def4a3",
   "metadata": {},
   "outputs": [
    {
     "name": "stdout",
     "output_type": "stream",
     "text": [
      "“The world as we have created it is a process of our thinking. It cannot be changed without changing our thinking.” — Albert Einstein\n",
      "“It is our choices, Harry, that show what we truly are, far more than our abilities.” — J.K. Rowling\n",
      "“There are only two ways to live your life. One is as though nothing is a miracle. The other is as though everything is a miracle.” — Albert Einstein\n",
      "“The person, be it gentleman or lady, who has not pleasure in a good novel, must be intolerably stupid.” — Jane Austen\n",
      "“Imperfection is beauty, madness is genius and it's better to be absolutely ridiculous than absolutely boring.” — Marilyn Monroe\n",
      "“Try not to become a man of success. Rather become a man of value.” — Albert Einstein\n",
      "“It is better to be hated for what you are than to be loved for what you are not.” — André Gide\n",
      "“I have not failed. I've just found 10,000 ways that won't work.” — Thomas A. Edison\n",
      "“A woman is like a tea bag; you never know how strong it is until it's in hot water.” — Eleanor Roosevelt\n",
      "“A day without sunshine is like, you know, night.” — Steve Martin\n"
     ]
    }
   ],
   "source": [
    "import requests\n",
    "from bs4 import BeautifulSoup\n",
    "\n",
    "# 1. URL 설정\n",
    "url = \"http://quotes.toscrape.com/page/1/\"\n",
    "\n",
    "# 2. HTTP 요청\n",
    "response = requests.get(url)\n",
    "soup = BeautifulSoup(response.text, \"html.parser\")\n",
    "\n",
    "# 3. 명언과 저자 추출\n",
    "quotes = soup.find_all(\"div\", class_=\"quote\")\n",
    "\n",
    "for quote in quotes:\n",
    "    text = quote.find(\"span\", class_=\"text\").get_text()\n",
    "    author = quote.find(\"small\", class_=\"author\").get_text()\n",
    "    print(f\"{text} — {author}\")"
   ]
  },
  {
   "cell_type": "markdown",
   "id": "dd95ccdd-bb33-4031-91e9-b1d3acc608bb",
   "metadata": {},
   "source": [
    "# NY Times 웹 크롤링(API) "
   ]
  },
  {
   "cell_type": "code",
   "execution_count": 9,
   "id": "3715ad84-eeef-417e-b26e-933fa2770da4",
   "metadata": {},
   "outputs": [
    {
     "data": {
      "text/html": [
       "<div>\n",
       "<style scoped>\n",
       "    .dataframe tbody tr th:only-of-type {\n",
       "        vertical-align: middle;\n",
       "    }\n",
       "\n",
       "    .dataframe tbody tr th {\n",
       "        vertical-align: top;\n",
       "    }\n",
       "\n",
       "    .dataframe thead th {\n",
       "        text-align: right;\n",
       "    }\n",
       "</style>\n",
       "<table border=\"1\" class=\"dataframe\">\n",
       "  <thead>\n",
       "    <tr style=\"text-align: right;\">\n",
       "      <th></th>\n",
       "      <th>uri</th>\n",
       "      <th>url</th>\n",
       "      <th>id</th>\n",
       "      <th>asset_id</th>\n",
       "      <th>source</th>\n",
       "      <th>published_date</th>\n",
       "      <th>updated</th>\n",
       "      <th>section</th>\n",
       "      <th>subsection</th>\n",
       "      <th>nytdsection</th>\n",
       "      <th>...</th>\n",
       "      <th>byline</th>\n",
       "      <th>type</th>\n",
       "      <th>title</th>\n",
       "      <th>abstract</th>\n",
       "      <th>des_facet</th>\n",
       "      <th>org_facet</th>\n",
       "      <th>per_facet</th>\n",
       "      <th>geo_facet</th>\n",
       "      <th>media</th>\n",
       "      <th>eta_id</th>\n",
       "    </tr>\n",
       "  </thead>\n",
       "  <tbody>\n",
       "    <tr>\n",
       "      <th>0</th>\n",
       "      <td>nyt://article/145cfe92-7c5f-5da3-8ecf-6167d2e7...</td>\n",
       "      <td>https://www.nytimes.com/2025/06/17/nyregion/br...</td>\n",
       "      <td>100000010234457</td>\n",
       "      <td>100000010234457</td>\n",
       "      <td>New York Times</td>\n",
       "      <td>2025-06-17</td>\n",
       "      <td>2025-06-17 18:49:31</td>\n",
       "      <td>New York</td>\n",
       "      <td></td>\n",
       "      <td>new york</td>\n",
       "      <td>...</td>\n",
       "      <td>By Luis Ferré-Sadurní</td>\n",
       "      <td>Article</td>\n",
       "      <td>Brad Lander Is Arrested by ICE Agents at Immig...</td>\n",
       "      <td>Mr. Lander, the New York City comptroller and ...</td>\n",
       "      <td>[Immigration and Emigration, Elections, Mayors]</td>\n",
       "      <td>[Immigration and Customs Enforcement (US), Off...</td>\n",
       "      <td>[Lander, Brad]</td>\n",
       "      <td>[]</td>\n",
       "      <td>[{'type': 'image', 'subtype': 'photo', 'captio...</td>\n",
       "      <td>0</td>\n",
       "    </tr>\n",
       "  </tbody>\n",
       "</table>\n",
       "<p>1 rows × 22 columns</p>\n",
       "</div>"
      ],
      "text/plain": [
       "                                                 uri  \\\n",
       "0  nyt://article/145cfe92-7c5f-5da3-8ecf-6167d2e7...   \n",
       "\n",
       "                                                 url               id  \\\n",
       "0  https://www.nytimes.com/2025/06/17/nyregion/br...  100000010234457   \n",
       "\n",
       "          asset_id          source published_date              updated  \\\n",
       "0  100000010234457  New York Times     2025-06-17  2025-06-17 18:49:31   \n",
       "\n",
       "    section subsection nytdsection  ...                 byline     type  \\\n",
       "0  New York               new york  ...  By Luis Ferré-Sadurní  Article   \n",
       "\n",
       "                                               title  \\\n",
       "0  Brad Lander Is Arrested by ICE Agents at Immig...   \n",
       "\n",
       "                                            abstract  \\\n",
       "0  Mr. Lander, the New York City comptroller and ...   \n",
       "\n",
       "                                         des_facet  \\\n",
       "0  [Immigration and Emigration, Elections, Mayors]   \n",
       "\n",
       "                                           org_facet       per_facet  \\\n",
       "0  [Immigration and Customs Enforcement (US), Off...  [Lander, Brad]   \n",
       "\n",
       "  geo_facet                                              media eta_id  \n",
       "0        []  [{'type': 'image', 'subtype': 'photo', 'captio...      0  \n",
       "\n",
       "[1 rows x 22 columns]"
      ]
     },
     "execution_count": 9,
     "metadata": {},
     "output_type": "execute_result"
    }
   ],
   "source": [
    "import requests\n",
    "import pandas as pd\n",
    "\n",
    "API_KEY = 'SONDTUPdHwQHkAU6Y0Iu1oDA8syr9o2t'\n",
    "\n",
    "url = 'https://api.nytimes.com/svc/mostpopular/v2/viewed/1.json'\n",
    "params = {\n",
    "    \"api-key\" : API_KEY\n",
    "}\n",
    "\n",
    "response = requests.get(url, params=params)\n",
    "# response\n",
    "\n",
    "data = response.json()\n",
    "df = pd.json_normalize(data['results'])\n",
    "df.head(1)"
   ]
  },
  {
   "cell_type": "markdown",
   "id": "5721f08a-c7c6-46d9-a1da-f91de76021e4",
   "metadata": {},
   "source": [
    "# 단일 학교의 1일 급식 정보 가져오기\n",
    "- 나이스 교육정보 시스템"
   ]
  },
  {
   "cell_type": "code",
   "execution_count": 26,
   "id": "a964712e-5372-40f3-a342-80745ab5e306",
   "metadata": {},
   "outputs": [
    {
     "name": "stdout",
     "output_type": "stream",
     "text": [
      "학교 이름 조회 예정 : 교육청=B10, 학교코드=7021105\n",
      "응답코드 : 200\n",
      "학교명: 서울이문초등학교\n"
     ]
    },
    {
     "data": {
      "text/plain": [
       "'서울이문초등학교'"
      ]
     },
     "execution_count": 26,
     "metadata": {},
     "output_type": "execute_result"
    }
   ],
   "source": [
    "import requests\n",
    "import pandas as pd\n",
    "\n",
    "EDU_CODE = 'B10'\n",
    "SCHOOL_CODE = '7021105'\n",
    "API_KEY = '1dbfba1d54974449a30a67f0e8a4e7d0'\n",
    "TARGET_DATE = '20241030' # 수요일\n",
    "\n",
    "# 학교 이름 가져오는 함수 \n",
    "def get_school_name(edu_code, school_code):\n",
    "    print(f'학교 이름 조회 예정 : 교육청={edu_code}, 학교코드={school_code}')\n",
    "    url = 'https://open.neis.go.kr/hub/schoolInfo'\n",
    "    params = {\n",
    "        'KEY': API_KEY, \n",
    "        'Type' : 'json', \n",
    "        'ATPT_OFCDC_SC_CODE' : edu_code, \n",
    "        'SD_SCHUL_CODE' : school_code\n",
    "    }\n",
    "    try:\n",
    "        res = requests.get(url, params=params, timeout=5)\n",
    "        print(f\"응답코드 : {res.status_code}\")\n",
    "        if res.status_code == 200:\n",
    "            data = res.json()\n",
    "            #print(data)\n",
    "            if \"schoolInfo\" in data:\n",
    "                # 이 코드가 핵심\n",
    "                name = data[\"schoolInfo\"][1][\"row\"][0][\"SCHUL_NM\"]\n",
    "                print(f\"학교명: {name}\")\n",
    "                return name\n",
    "            else:\n",
    "                print(\"해당 학교 존재하지 않음\", data)\n",
    "        else:\n",
    "            print(\"응답 실패\", res.text)\n",
    "    except Exception as e:\n",
    "        print(f\"학교명 정보 조회 오류 : {e}\")\n",
    "    return \"학교명조회불가\"\n",
    "        \n",
    "get_school_name(EDU_CODE, SCHOOL_CODE)"
   ]
  },
  {
   "cell_type": "code",
   "execution_count": 27,
   "id": "433f916d-4bb1-4b2d-bb19-a90c3c7f0409",
   "metadata": {},
   "outputs": [
    {
     "name": "stdout",
     "output_type": "stream",
     "text": [
      "학교 이름 조회 예정 : 교육청=B10, 학교코드=7021105\n",
      "응답코드 : 200\n",
      "학교명: 서울이문초등학교\n",
      "급식 정보 조회 중: 날짜=20241030\n",
      "mealService 응답코드: 200\n",
      "급식 데이터 수: 1\n",
      "수집된 행 수: 1\n",
      "  교육청코드     학교코드       학교명      급식일자 식사명  \\\n",
      "0   B10  7021105  서울이문초등학교  20241030  중식   \n",
      "\n",
      "                                                급식식단  \n",
      "0  해물죽 (9.13.17.18)<br/>로제스파게티(우유) (1.2.5.6.12.13...  \n",
      "CSV 저장 완료: 서울_초등학교_급식_20241030.csv\n"
     ]
    }
   ],
   "source": [
    "def get_meal_info(edu_code, school_code):\n",
    "    print(f\"급식 정보 조회 중: 날짜={TARGET_DATE}\")\n",
    "    url = \"https://open.neis.go.kr/hub/mealServiceDietInfo\"\n",
    "    params = {\n",
    "        \"KEY\": API_KEY,\n",
    "        \"Type\": \"json\",\n",
    "        \"ATPT_OFCDC_SC_CODE\": edu_code,\n",
    "        \"SD_SCHUL_CODE\": school_code,\n",
    "        \"MLSV_YMD\": TARGET_DATE\n",
    "    }\n",
    "    try:\n",
    "        res = requests.get(url, params=params, timeout=5)\n",
    "        print(f\"mealService 응답코드: {res.status_code}\")\n",
    "        if res.status_code == 200:\n",
    "            data = res.json()\n",
    "            if \"mealServiceDietInfo\" in data:\n",
    "                print(f\"급식 데이터 수: {len(data['mealServiceDietInfo'][1]['row'])}\")\n",
    "                return data[\"mealServiceDietInfo\"][1][\"row\"]\n",
    "            else:\n",
    "                print(\"mealServiceDietInfo 키 없음:\", data)\n",
    "        else:\n",
    "            print(\"응답 실패:\", res.text)\n",
    "    except Exception as e:\n",
    "        print(f\"급식 정보 조회 오류: {e}\")\n",
    "    return []\n",
    "\n",
    "# 데이터 수집\n",
    "school_name = get_school_name(EDU_CODE, SCHOOL_CODE)\n",
    "meals = get_meal_info(EDU_CODE, SCHOOL_CODE)\n",
    "\n",
    "data = []\n",
    "for meal in meals:\n",
    "    data.append({\n",
    "        \"교육청코드\": EDU_CODE,\n",
    "        \"학교코드\": SCHOOL_CODE,\n",
    "        \"학교명\": school_name,\n",
    "        \"급식일자\": meal.get(\"MLSV_YMD\"),\n",
    "        \"식사명\": meal.get(\"MMEAL_SC_NM\"),\n",
    "        \"급식식단\": meal.get(\"DDISH_NM\")\n",
    "    })\n",
    "\n",
    "df = pd.DataFrame(data)\n",
    "print(\"수집된 행 수:\", len(df))\n",
    "print(df.head())\n",
    "\n",
    "df.to_csv(\"서울_초등학교_급식_20241030.csv\", index=False, encoding=\"utf-8-sig\")\n",
    "print(\"CSV 저장 완료: 서울_초등학교_급식_20241030.csv\")"
   ]
  },
  {
   "cell_type": "markdown",
   "id": "ed65aaf6-05fd-49b3-911a-4a6e80afb7af",
   "metadata": {},
   "source": [
    "# 1개 학교에 대한 한 달간의 데이터 수집\n",
    "- 날짜만 변경\n",
    "- 결과값 내 전처리 필요(정규표현식 활용)"
   ]
  },
  {
   "cell_type": "code",
   "execution_count": 33,
   "id": "fff1296a-5549-4712-8933-5c483533af94",
   "metadata": {},
   "outputs": [
    {
     "data": {
      "text/plain": [
       "('20250519', '20250618')"
      ]
     },
     "execution_count": 33,
     "metadata": {},
     "output_type": "execute_result"
    }
   ],
   "source": [
    "from datetime import datetime, timedelta\n",
    "today = datetime.today()\n",
    "#today\n",
    "one_month_ago = today - timedelta(days=30)\n",
    "#print(today)\n",
    "#print(one_month_ago)\n",
    "\n",
    "FROM_DATE = one_month_ago.strftime('%Y%m%d')\n",
    "TO_DATE = today.strftime('%Y%m%d')\n",
    "FROM_DATE, TO_DATE"
   ]
  },
  {
   "cell_type": "code",
   "execution_count": 40,
   "id": "53c38758-0d30-4f05-b4df-67580d312c9a",
   "metadata": {},
   "outputs": [
    {
     "name": "stdout",
     "output_type": "stream",
     "text": [
      "학교 이름 조회 예정 : 교육청=B10, 학교코드=7021105\n",
      "응답코드 : 200\n",
      "학교명: 서울이문초등학교\n",
      "mealService 응답코드: 200\n",
      "급식 데이터 수: 1\n",
      "수집된 행 수: 1\n",
      "  교육청코드     학교코드       학교명      급식일자 식사명  \\\n",
      "0   B10  7021105  서울이문초등학교  20250519  중식   \n",
      "\n",
      "                                                급식식단  \n",
      "0  차수수밥* <br/>김치콩나물국^ (5.6.9)<br/>오이볶음 (5)<br/>순살...  \n"
     ]
    }
   ],
   "source": [
    "import requests\n",
    "import pandas as pd\n",
    "from datetime import datetime, timedelta\n",
    "\n",
    "EDU_CODE = 'B10'\n",
    "SCHOOL_CODE = '7021105'\n",
    "API_KEY = '1dbfba1d54974449a30a67f0e8a4e7d0'\n",
    "\n",
    "def get_meal_info(edu_code, school_code, from_date, to_date):\n",
    "    print(f\"급식 정보 조회 중: 날짜={TARGET_DATE}\")\n",
    "    url = \"https://open.neis.go.kr/hub/mealServiceDietInfo\"\n",
    "    params = {\n",
    "        \"KEY\": API_KEY,\n",
    "        \"Type\": \"json\",\n",
    "        \"ATPT_OFCDC_SC_CODE\": edu_code,\n",
    "        \"SD_SCHUL_CODE\": school_code,\n",
    "        \"MLSV_YMD\": from_date,\n",
    "        \"MLSV_TO_YMD\": to_date,\n",
    "        \"pIndex\" : 1,\n",
    "        \"pSize\" : 100\n",
    "    }\n",
    "    try:\n",
    "        res = requests.get(url, params=params, timeout=5)\n",
    "        print(f\"mealService 응답코드: {res.status_code}\")\n",
    "        if res.status_code == 200:\n",
    "            data = res.json()\n",
    "            if \"mealServiceDietInfo\" in data:\n",
    "                print(f\"급식 데이터 수: {len(data['mealServiceDietInfo'][1]['row'])}\")\n",
    "                return data[\"mealServiceDietInfo\"][1][\"row\"]\n",
    "            else:\n",
    "                print(\"mealServiceDietInfo 키 없음:\", data)\n",
    "        else:\n",
    "            print(\"응답 실패:\", res.text)\n",
    "    except Exception as e:\n",
    "        print(f\"급식 정보 조회 오류: {e}\")\n",
    "    return []\n",
    "\n",
    "# 데이터 수집\n",
    "school_name = get_school_name(EDU_CODE, SCHOOL_CODE)\n",
    "meals = get_meal_info(EDU_CODE, SCHOOL_CODE, FROM_DATE, TO_DATE)\n",
    "\n",
    "data = []\n",
    "for meal in meals:\n",
    "    data.append({\n",
    "        \"교육청코드\": EDU_CODE,\n",
    "        \"학교코드\": SCHOOL_CODE,\n",
    "        \"학교명\": school_name,\n",
    "        \"급식일자\": meal.get(\"MLSV_YMD\"),\n",
    "        \"식사명\": meal.get(\"MMEAL_SC_NM\"),\n",
    "        \"급식식단\": meal.get(\"DDISH_NM\")\n",
    "    })\n",
    "\n",
    "df = pd.DataFrame(data)\n",
    "print(\"수집된 행 수:\", len(df))\n",
    "print(df.head())\n",
    "\n",
    "#df.to_csv(\"서울_초등학교_급식_20241030.csv\", index=False, encoding=\"utf-8-sig\")\n",
    "print(\"CSV 저장 완료: 서울_초등학교_급식_20241030.csv\")"
   ]
  },
  {
   "cell_type": "markdown",
   "id": "a020628b-1fbd-4316-94ba-20a786f897fe",
   "metadata": {},
   "source": [
    "# 서울에 있는 모든 고등학교 최근 1개월 데이터 수집\n",
    "- 가장 중요한 건 학교명과 학교코드 필요"
   ]
  },
  {
   "cell_type": "code",
   "execution_count": 55,
   "id": "c402f44a-79b1-45e5-974b-5903ff6217f8",
   "metadata": {},
   "outputs": [],
   "source": [
    "# 최근 한달 기간 설정\n",
    "today = datetime.today()\n",
    "one_month_ago = today - timedelta(days=30)\n",
    "FROM_DATE = one_month_ago.strftime('%Y%m%d')\n",
    "TO_DATE = today.strftime('%Y%m%d')\n",
    "\n",
    "# 고등학교만 조회\n",
    "def get_highschools(edu_code):\n",
    "    url = 'https://open.neis.go.kr/hub/schoolInfo'\n",
    "    params = {\n",
    "        'KEY': API_KEY, \n",
    "        'Type' : 'json', \n",
    "        'ATPT_OFCDC_SC_CODE' : edu_code, \n",
    "        'pIndex': 1, \n",
    "        'pSize': 1000\n",
    "    }\n",
    "    highschools = []\n",
    "    try:\n",
    "        res = requests.get(url, params=params, timeout=5)\n",
    "        print(f\"응답코드 : {res.status_code}\")\n",
    "        if res.status_code == 200 and 'schoolInfo' in res.json(): # 200은 뜨는데, 안에 내용이 없을 수 있으니 and 뒷 문장 추가\n",
    "            rows = res.json()['schoolInfo'][1]['row']\n",
    "            for row in rows:\n",
    "                if row.get('SCHUL_KND_SC_NM') == '고등학교':\n",
    "                    highschools.append((row['SD_SCHUL_CODE'], row['SCHUL_NM']))\n",
    "                else:\n",
    "                    pass\n",
    "        else:\n",
    "            print(\"200은 뜨나, schoolinfo은 없음\")\n",
    "    except Exception as e:\n",
    "        print(\"고등학교 목록 오류: {e}\")\n",
    "    return highschools"
   ]
  },
  {
   "cell_type": "code",
   "execution_count": 58,
   "id": "5389d62c-671d-411d-ad56-64c0cf58bc93",
   "metadata": {},
   "outputs": [
    {
     "name": "stdout",
     "output_type": "stream",
     "text": [
      "응답코드 : 200\n"
     ]
    },
    {
     "data": {
      "text/plain": [
       "178"
      ]
     },
     "execution_count": 58,
     "metadata": {},
     "output_type": "execute_result"
    }
   ],
   "source": [
    "highscool_list = get_highschools(EDU_CODE)\n",
    "len(highscool_list)"
   ]
  },
  {
   "cell_type": "code",
   "execution_count": 61,
   "id": "cb450be7-eaa7-4b90-817d-a26bc73e9ac8",
   "metadata": {},
   "outputs": [
    {
     "name": "stdout",
     "output_type": "stream",
     "text": [
      "응답코드 : 200\n"
     ]
    },
    {
     "ename": "NameError",
     "evalue": "name 'highschool_list' is not defined",
     "output_type": "error",
     "traceback": [
      "\u001b[31m---------------------------------------------------------------------------\u001b[39m",
      "\u001b[31mNameError\u001b[39m                                 Traceback (most recent call last)",
      "\u001b[36mCell\u001b[39m\u001b[36m \u001b[39m\u001b[32mIn[61]\u001b[39m\u001b[32m, line 39\u001b[39m\n\u001b[32m     36\u001b[39m     \u001b[38;5;28;01mreturn\u001b[39;00m []\n\u001b[32m     38\u001b[39m all_data = []\n\u001b[32m---> \u001b[39m\u001b[32m39\u001b[39m \u001b[38;5;28;01mfor\u001b[39;00m school_code, school_name \u001b[38;5;129;01min\u001b[39;00m tqdm(\u001b[43mhighschool_list\u001b[49m, desc=\u001b[33m\"\u001b[39m\u001b[33m고등학교 급식 조회\u001b[39m\u001b[33m\"\u001b[39m):\n\u001b[32m     40\u001b[39m     \u001b[38;5;28mprint\u001b[39m(school_code, school_name)\n\u001b[32m     41\u001b[39m     meals = get_meal_info(EDU_CODE, school_code, FROM_DATE, TO_DATE)\n",
      "\u001b[31mNameError\u001b[39m: name 'highschool_list' is not defined"
     ]
    }
   ],
   "source": [
    "highscool_list = get_highschools(EDU_CODE)\n",
    "\n",
    "# 최근 한달 기간 설정\n",
    "today = datetime.today()\n",
    "one_month_ago = today - timedelta(days=30)\n",
    "FROM_DATE = one_month_ago.strftime('%Y%m%d')\n",
    "TO_DATE = today.strftime('%Y%m%d')\n",
    "\n",
    "def get_meal_info(edu_code, school_code, from_date, to_date):\n",
    "    print(f\"급식 정보 조회 중: 날짜={TARGET_DATE}\")\n",
    "    url = \"https://open.neis.go.kr/hub/mealServiceDietInfo\"\n",
    "    params = {\n",
    "        \"KEY\": API_KEY,\n",
    "        \"Type\": \"json\",\n",
    "        \"ATPT_OFCDC_SC_CODE\": edu_code,\n",
    "        \"SD_SCHUL_CODE\": school_code,\n",
    "        \"MLSV_YMD\": from_date,\n",
    "        \"MLSV_TO_YMD\": to_date,\n",
    "        \"pIndex\" : 1,\n",
    "        \"pSize\" : 100\n",
    "    }\n",
    "    try:\n",
    "        res = requests.get(url, params=params, timeout=5)\n",
    "        print(f\"mealService 응답코드: {res.status_code}\")\n",
    "        if res.status_code == 200:\n",
    "            data = res.json()\n",
    "            if \"mealServiceDietInfo\" in data:\n",
    "                print(f\"급식 데이터 수: {len(data['mealServiceDietInfo'][1]['row'])}\")\n",
    "                return data[\"mealServiceDietInfo\"][1][\"row\"]\n",
    "            else:\n",
    "                print(\"mealServiceDietInfo 키 없음:\", data)\n",
    "        else:\n",
    "            print(\"응답 실패:\", res.text)\n",
    "    except Exception as e:\n",
    "        print(f\"급식 정보 조회 오류: {e}\")\n",
    "    return []\n",
    "\n",
    "all_data = []\n",
    "for school_code, school_name in tqdm(highschool_list, desc=\"고등학교 급식 조회\"):\n",
    "    print(school_code, school_name)\n",
    "    meals = get_meal_info(EDU_CODE, school_code, FROM_DATE, TO_DATE)\n",
    "    #print(meals)\n",
    "    #print(\"---\")\n",
    "    for meal in meals:\n",
    "        all_data.append({\n",
    "            \"교육청코드\": EDU_CODE,\n",
    "            \"학교코드\": school_code,\n",
    "            \"학교명\": school_name,\n",
    "            \"급식일자\": meal.get(\"MLSV_YMD\"),\n",
    "            \"식사명\": meal.get(\"MMEAL_SC_NM\"),\n",
    "            \"급식식단\": meal.get(\"DDISH_NM\")\n",
    "        })\n",
    "    time.sleep(0.1)\n",
    "\n",
    "# 저장\n",
    "df = pd.DataFrame(all_data)\n",
    "print(\"수집된 급식 행 수:\", len(df))\n",
    "print(df.head())\n",
    "\n"
   ]
  },
  {
   "cell_type": "markdown",
   "id": "6abd3b71-4bc3-49a1-a655-2c4e7b968390",
   "metadata": {},
   "source": [
    "# 미션\n",
    "- 전국시도교육청 기반 고등하굑 전체 급식데이터 수집\n",
    "- ChatGPT 사용하지 않고 진행(반복문 ~ 반복문 ~ 조건문, 기초문법 확장한 개념)"
   ]
  },
  {
   "cell_type": "code",
   "execution_count": 62,
   "id": "d7746179-12d3-411a-a654-e9a4ca041138",
   "metadata": {},
   "outputs": [],
   "source": [
    "EDU_CODES = [\n",
    "    \"B10\", \"C10\", \"D10\", \"E10\", \"F10\", \"G10\", \"H10\", \"I10\", \"J10\",\n",
    "    \"K10\", \"M10\", \"N10\", \"P10\", \"Q10\", \"R10\", \"S10\", \"T10\"\n",
    "]"
   ]
  },
  {
   "cell_type": "code",
   "execution_count": null,
   "id": "e9c94a79-81fb-4168-bce4-c7a70bc20b9c",
   "metadata": {},
   "outputs": [],
   "source": []
  }
 ],
 "metadata": {
  "kernelspec": {
   "display_name": ".venv",
   "language": "python",
   "name": "python3"
  },
  "language_info": {
   "codemirror_mode": {
    "name": "ipython",
    "version": 3
   },
   "file_extension": ".py",
   "mimetype": "text/x-python",
   "name": "python",
   "nbconvert_exporter": "python",
   "pygments_lexer": "ipython3",
   "version": "3.11.12"
  }
 },
 "nbformat": 4,
 "nbformat_minor": 5
}
