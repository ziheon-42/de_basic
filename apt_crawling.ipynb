{
 "cells": [
  {
   "cell_type": "markdown",
   "id": "6a6b1107-5a49-4afc-afff-1e76dd2b5a87",
   "metadata": {},
   "source": [
    "# 서울 열린데이터 아파트 가격 공공데이터 포털"
   ]
  },
  {
   "cell_type": "code",
   "execution_count": 2,
   "id": "96b02ebb-a5dc-4ebe-8001-1dd303118b95",
   "metadata": {},
   "outputs": [
    {
     "name": "stderr",
     "output_type": "stream",
     "text": [
      "100%|███████████████████████████████████████████████████████████████████████████████████████████████████████████████████████████████████████████████████████████████████████████████████████████████████| 11/11 [00:35<00:00,  3.21s/it]"
     ]
    },
    {
     "name": "stdout",
     "output_type": "stream",
     "text": [
      "  RCPT_YR CGG_CD CGG_NM STDG_CD STDG_NM LOTNO_SE LOTNO_SE_NM   MNO   SNO  \\\n",
      "0    2025  11530    구로구   10200     구로동        1          대지  1130  0023   \n",
      "1    2025  11290    성북구   13800     장위동        1          대지  0219  0314   \n",
      "2    2025  11620    관악구   10100     봉천동        1          대지  1717  0000   \n",
      "3    2025  11290    성북구   13800     장위동        1          대지  0230  0105   \n",
      "4    2025  11305    강북구   10100     미아동        1          대지  0129  0008   \n",
      "\n",
      "       BLDG_NM  ... THING_AMT ARCH_AREA  LAND_AREA   FLR  RGHT_SE RTRCN_DAY  \\\n",
      "0  골드마인(Ⅲ)오피스텔  ...      6000     14.40      16.96   3.0                      \n",
      "1       더커먼즈37  ...     28500     26.85      20.00   4.0                      \n",
      "2       관악푸르지오  ...     76000     84.75       0.00  14.0                      \n",
      "3        동방빌리지  ...     23400     40.98      18.00  -1.0                      \n",
      "4       MK프라디움  ...     51500     55.00      38.00   4.0                      \n",
      "\n",
      "  ARCH_YR BLDG_USG DCLR_SE OPBIZ_RESTAGNT_SGG_NM  \n",
      "0    2002     오피스텔    중개거래                서울 금천구  \n",
      "1    2021    연립다세대     직거래                        \n",
      "2    2004      아파트     직거래                        \n",
      "3    1994    연립다세대    중개거래                서울 성북구  \n",
      "4    2022    연립다세대     직거래                        \n",
      "\n",
      "[5 rows x 21 columns]\n"
     ]
    },
    {
     "name": "stderr",
     "output_type": "stream",
     "text": [
      "\n"
     ]
    }
   ],
   "source": [
    "import pandas as pd\n",
    "import requests\n",
    "from datetime import datetime\n",
    "from concurrent.futures import ThreadPoolExecutor\n",
    "from tqdm import tqdm\n",
    "\n",
    "# 설정\n",
    "SERVICE_KEY = '69736670776c6a68343455724b7853'\n",
    "BASE_URL = f'http://openapi.seoul.go.kr:8088/{SERVICE_KEY}/json/tbLnOpendataRtmsV'\n",
    "NUM_PAGES = 11  # 1000건 * 11 = 최대 11,000건\n",
    "\n",
    "def fetch_page(j):\n",
    "    start_idx = 1 + (j - 1) * 1000\n",
    "    end_idx = j * 1000\n",
    "    url = f'{BASE_URL}/{start_idx}/{end_idx}'\n",
    "    try:\n",
    "        response = requests.get(url)\n",
    "        content = response.json()\n",
    "        rows = content['tbLnOpendataRtmsV'].get('row', [])\n",
    "        return pd.DataFrame(rows)\n",
    "    except Exception as e:\n",
    "        print(f\"[에러] 페이지 {j} 요청 실패: {e}\")\n",
    "        return pd.DataFrame()\n",
    "\n",
    "results = []\n",
    "with ThreadPoolExecutor(max_workers=6) as executor:\n",
    "    for df in tqdm(executor.map(fetch_page, range(1, NUM_PAGES + 1)), total=NUM_PAGES):\n",
    "        results.append(df)\n",
    "\n",
    "data = pd.concat(results, ignore_index=True)\n",
    "\n",
    "print(data.head())"
   ]
  },
  {
   "cell_type": "markdown",
   "id": "7ebf3a70-422e-4526-b224-32fb50c58ca4",
   "metadata": {},
   "source": [
    "# 공공데이터포털"
   ]
  },
  {
   "cell_type": "code",
   "execution_count": 29,
   "id": "45add462-a3b2-4528-9805-b398868c7880",
   "metadata": {},
   "outputs": [
    {
     "name": "stderr",
     "output_type": "stream",
     "text": [
      "100%|███████████████████████████████████████████████████████████████████| 90/90 [00:01<00:00, 66.93it/s]"
     ]
    },
    {
     "name": "stdout",
     "output_type": "stream",
     "text": [
      "  aptDong      aptNm      aptSeq bonbun bubun buildYear buyerGbn cdealDay  \\\n",
      "0     102    인왕산아이파크  11110-2212   0060  0000      2008       개인     None   \n",
      "1     105         현대    11110-90   0082  0000      2000       개인     None   \n",
      "2     102      창신쌍용1    11110-37   0702  0000      1992       개인     None   \n",
      "3     202  인왕산2차아이파크  11110-2417   0088  0000      2015       개인     None   \n",
      "4   이화에수풀      이화에수풀  11110-2359   0195  0010      2014       법인     None   \n",
      "\n",
      "  cdealType dealAmount  ... roadNmBonbun roadNmBubun roadNmCd roadNmSeq  \\\n",
      "0      None    115,000  ...        00009       00000  4100482        01   \n",
      "1      None    139,950  ...        00246       00020  3000008        06   \n",
      "2      None     69,500  ...        00019       00000  4100065        01   \n",
      "3      None    111,500  ...        00034       00000  4100482        01   \n",
      "4      None     17,700  ...        00047       00000  3100002        05   \n",
      "\n",
      "  roadNmSggCd roadNmbCd  sggCd slerGbn  umdCd umdNm  \n",
      "0       11110         0  11110      개인  18700   무악동  \n",
      "1       11110         0  11110      개인  18700   무악동  \n",
      "2       11110         0  11110      개인  17400   창신동  \n",
      "3       11110         0  11110      개인  18700   무악동  \n",
      "4       11110         0  11110      개인  16600   연건동  \n",
      "\n",
      "[5 rows x 32 columns]\n"
     ]
    },
    {
     "name": "stderr",
     "output_type": "stream",
     "text": [
      "\n"
     ]
    }
   ],
   "source": [
    "import requests\n",
    "import xmltodict\n",
    "import pandas as pd\n",
    "from concurrent.futures import ThreadPoolExecutor\n",
    "from tqdm import tqdm\n",
    "\n",
    "# \n",
    "SERVICE_KEY = 'SDEjyCFJI1ki5hZaMAvBGUsre6U38rZKkVug+DGju9aAUp9G7+1tQagaeWcG2trJmx1+Xe0JANCSgpGnLFuOPA=='\n",
    "BASE_URL = \"http://apis.data.go.kr/1613000/RTMSDataSvcAptTradeDev/getRTMSDataSvcAptTradeDev\"\n",
    "\n",
    "# 지역 코드 (서울: 11110 ~ 전국 주요 코드, 일부만 예시. 전체 원할 시 파일 제공 가능)\n",
    "REGION_CODES = [\n",
    "    \"11110\", \"11200\", \"11305\",  # 서울 일부\n",
    "    \"26110\", \"26260\",           # 부산 일부\n",
    "    \"41110\", \"41170\",           # 경기 일부\n",
    "    \"42110\",                   # 강원\n",
    "    \"43110\",                   # 충북\n",
    "    \"44130\",                   # 충남\n",
    "    \"45110\",                   # 전북\n",
    "    \"46110\",                   # 전남\n",
    "    \"47111\",                   # 대구\n",
    "    \"48121\",                   # 경남\n",
    "    \"50110\"                    # 제주\n",
    "]\n",
    "\n",
    "# 월 리스트\n",
    "months = [f\"202501\", \"202502\", \"202503\", \"202504\", \"202505\", \"202506\"]\n",
    "\n",
    "# 수집 함수\n",
    "def fetch_data(lawd_cd, deal_ymd):\n",
    "    params = {\n",
    "        \"serviceKey\": SERVICE_KEY,\n",
    "        \"LAWD_CD\": lawd_cd,\n",
    "        \"DEAL_YMD\": deal_ymd,\n",
    "        \"numOfRows\": \"1000\",\n",
    "        \"pageNo\": \"1\"\n",
    "    }\n",
    "    try:\n",
    "        response = requests.get(BASE_URL, params=params, timeout=10)\n",
    "        data = xmltodict.parse(response.text)\n",
    "        items = data['response']['body']['items']\n",
    "        if not items:\n",
    "            return pd.DataFrame()\n",
    "        item = items['item']\n",
    "        if isinstance(item, list):\n",
    "            return pd.DataFrame(item)\n",
    "        else:\n",
    "            return pd.DataFrame([item])\n",
    "    except Exception as e:\n",
    "        print(f\"[오류] {lawd_cd}-{deal_ymd}: {e}\")\n",
    "        return pd.DataFrame()\n",
    "\n",
    "# 병렬 처리 수집\n",
    "results = []\n",
    "with ThreadPoolExecutor(max_workers=12) as executor:\n",
    "    tasks = []\n",
    "    for ym in months:\n",
    "        for code in REGION_CODES:\n",
    "            tasks.append((code, ym))\n",
    "    for df in tqdm(executor.map(lambda x: fetch_data(*x), tasks), total=len(tasks)):\n",
    "        if not df.empty:\n",
    "            results.append(df)\n",
    "\n",
    "# 데이터 병합 및 정제\n",
    "final_df = pd.concat(results, ignore_index=True)\n",
    "print(final_df.head())\n"
   ]
  }
 ],
 "metadata": {
  "kernelspec": {
   "display_name": "Python 3 (ipykernel)",
   "language": "python",
   "name": "python3"
  },
  "language_info": {
   "codemirror_mode": {
    "name": "ipython",
    "version": 3
   },
   "file_extension": ".py",
   "mimetype": "text/x-python",
   "name": "python",
   "nbconvert_exporter": "python",
   "pygments_lexer": "ipython3",
   "version": "3.11.12"
  }
 },
 "nbformat": 4,
 "nbformat_minor": 5
}
